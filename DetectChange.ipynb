{
 "cells": [
  {
   "cell_type": "code",
   "execution_count": 1,
   "id": "3b5d63bd",
   "metadata": {},
   "outputs": [],
   "source": [
    "import firebase_admin\n",
    "from firebase_admin import credentials\n",
    "from firebase_admin import db\n",
    "import numpy as np\n",
    "import pandas as pd\n",
    "from scipy.signal import bessel, filtfilt, find_peaks\n",
    "from numpy import asarray\n",
    "from numpy import savetxt"
   ]
  },
  {
   "cell_type": "code",
   "execution_count": 2,
   "id": "3637e182",
   "metadata": {},
   "outputs": [
    {
     "data": {
      "text/plain": [
       "<firebase_admin.App at 0x2520a7c8940>"
      ]
     },
     "execution_count": 2,
     "metadata": {},
     "output_type": "execute_result"
    }
   ],
   "source": [
    "cred = credentials.Certificate(r\"C:\\Users\\konto\\OneDrive\\เดสก์ท็อป\\Senior\\testserver/admin.json\")\n",
    "firebase_admin.initialize_app(cred, {\n",
    "    'databaseURL': 'https://fluted-arch-341414-default-rtdb.asia-southeast1.firebasedatabase.app/'\n",
    "})\n"
   ]
  },
  {
   "cell_type": "code",
   "execution_count": 3,
   "id": "6e2e4d93",
   "metadata": {},
   "outputs": [],
   "source": [
    "# ref = db.reference('Red/value')\n",
    "\n",
    "# # Define a callback function to handle changes\n",
    "# def handle_change(event):\n",
    "#     print(\"Change detected!\")\n",
    "# #     print(event.data)\n",
    "#     print(event)\n",
    "\n",
    "# # Set up a stream to listen for changes\n",
    "# stream = ref.get(handle_change)\n",
    "\n",
    "# # Keep the script running to continue listening for changes\n",
    "# while True:\n",
    "#     pass"
   ]
  },
  {
   "cell_type": "code",
   "execution_count": 4,
   "id": "24b3f977",
   "metadata": {},
   "outputs": [],
   "source": [
    "def bessel_bandpass_filter(data, lowcut, highcut, fs, order=4):\n",
    "    nyquist = 0.5 * fs\n",
    "    low = lowcut / nyquist\n",
    "    high = highcut / nyquist\n",
    "    b, a = bessel(order, [low, high], btype='band')\n",
    "    y = filtfilt(b, a, data)\n",
    "    return y"
   ]
  },
  {
   "cell_type": "code",
   "execution_count": 5,
   "id": "ab84caf2",
   "metadata": {},
   "outputs": [],
   "source": [
    "ref = db.reference('Red/value')\n"
   ]
  },
  {
   "cell_type": "code",
   "execution_count": 6,
   "id": "fd69c7db",
   "metadata": {},
   "outputs": [],
   "source": [
    "# def findRR():\n",
    "#     fs = 25  # Sampling frequency\n",
    "#     lowcut = 0.3  # Low cut-off frequency (Hz)\n",
    "#     highcut = 0.6  # High cut-off frequency (Hz)\n",
    "#     order = 2 # Filter order\n",
    "#     # Define minimum and maximum breath rates\n",
    "#     min_breath_rate = 5  # breaths per minute\n",
    "#     max_breath_rate =  26 # breaths per minute\n",
    "#     note=[]\n",
    "\n",
    "#     red = ref.get()\n",
    "#     filtered_red = bessel_bandpass_filter(red, lowcut, highcut, fs, order)\n",
    "#     # Find the minimum and maximum peak-to-peak amplitudes\n",
    "#     min_amplitude = filtered_red.min()\n",
    "#     max_amplitude = filtered_red.max()\n",
    "\n",
    "#     # Find the minimum and maximum breath durations\n",
    "#     min_duration = int(60 / max_breath_rate * fs)\n",
    "#     max_duration = int(60 / min_breath_rate * fs)\n",
    "\n",
    "#     segment_lengths = np.arange(min_duration, max_duration, step=fs)\n",
    "#     breath_rates = []\n",
    "\n",
    "#     for segment_length in segment_lengths:\n",
    "#     # Segment the filtered signal into breath segments\n",
    "#         segment_size = int(segment_length)\n",
    "#         num_segments = int(len(filtered_red) / segment_size)\n",
    "#         segments = np.array_split(filtered_red[:num_segments*segment_size], num_segments)\n",
    "\n",
    "#         # Extract breath features for each segment\n",
    "#         breath_features = []\n",
    "\n",
    "#         for segment in segments:\n",
    "#             # Find peaks in the segment\n",
    "#             peaks, _ = find_peaks(segment, height=0, distance=int(segment_length/2))\n",
    "#             # Calculate peak-to-peak amplitude and duration for each breath\n",
    "#             for i in range(len(peaks)-1):\n",
    "#                 p2p = segment[peaks[i+1]] - segment[peaks[i]]\n",
    "#                 duration = (peaks[i+1] - peaks[i]) / fs\n",
    "#                 breath_features.append((p2p, duration))\n",
    "\n",
    "#         # Calculate the average respiration rate over the entire signal\n",
    "#         breath_features = np.array(breath_features)\n",
    "#         respiration_rate = len(breath_features) / (len(filtered_red) / fs) * 60\n",
    "#         breath_rates.append(respiration_rate)\n",
    "\n",
    "#     optimal_segment_length = segment_lengths[np.argmin(np.abs(np.array(breath_rates) - (min_breath_rate + max_breath_rate)/2))]\n",
    "#     #                 print(\"Optimal segment length: %.2f seconds\" % (optimal_segment_length/fs))\n",
    "#     optimal_length = round(optimal_segment_length/fs)\n",
    "\n",
    "#     segment_size = int(optimal_length * fs)\n",
    "#     num_segments = int(len(filtered_red) / segment_size)\n",
    "#     segments = np.array_split(filtered_red[:num_segments*segment_size], num_segments)\n",
    "#     breath_features = []\n",
    "#     for segment in segments:\n",
    "#         # Find peaks in the segment\n",
    "#         peaks, _ = find_peaks(segment, height=0)\n",
    "#         # Calculate peak-to-peak amplitude and duration for each breath\n",
    "#         for i in range(len(peaks)-1):\n",
    "#             p2p = segment[peaks[i+1]] - segment[peaks[i]]\n",
    "#             duration = (peaks[i+1] - peaks[i]) / fs\n",
    "#             breath_features.append((p2p, duration))\n",
    "\n",
    "#     # Calculate the average respiration rate over the entire signal\n",
    "#     breath_features = np.array(breath_features)\n",
    "#     respiration_rate = len(breath_features) / (len(filtered_red) / fs) * 60\n",
    "#     return respiration_rate\n",
    "\n",
    "if __name__ == '__main__':\n",
    "    # var = findRR()\n",
    "    print('HR')"
   ]
  },
  {
   "cell_type": "code",
   "execution_count": null,
   "id": "5c526ff0",
   "metadata": {},
   "outputs": [],
   "source": []
  },
  {
   "cell_type": "code",
   "execution_count": null,
   "id": "2dda2662",
   "metadata": {},
   "outputs": [],
   "source": []
  }
 ],
 "metadata": {
  "kernelspec": {
   "display_name": "Python 3",
   "language": "python",
   "name": "python3"
  },
  "language_info": {
   "codemirror_mode": {
    "name": "ipython",
    "version": 3
   },
   "file_extension": ".py",
   "mimetype": "text/x-python",
   "name": "python",
   "nbconvert_exporter": "python",
   "pygments_lexer": "ipython3",
   "version": "3.8.8"
  }
 },
 "nbformat": 4,
 "nbformat_minor": 5
}
